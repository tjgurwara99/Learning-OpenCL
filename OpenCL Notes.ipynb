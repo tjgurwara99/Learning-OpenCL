{
 "cells": [
  {
   "cell_type": "markdown",
   "metadata": {},
   "source": [
    "# OpenCL Vector addition Program"
   ]
  },
  {
   "cell_type": "markdown",
   "metadata": {},
   "source": [
    "## Steps involved in Creating this program:"
   ]
  },
  {
   "cell_type": "markdown",
   "metadata": {},
   "source": [
    "1. Create a vector of cl::Platform type because I don't know."
   ]
  },
  {
   "cell_type": "markdown",
   "metadata": {},
   "source": [
    "2. Get the Platform by using the c++ wrapper:\n",
    "    cl::Platform::get(&platforms);"
   ]
  },
  {
   "cell_type": "markdown",
   "metadata": {},
   "source": [
    "3. Create a vector of Devices with type cl::Device because there can be more devices than one."
   ]
  },
  {
   "cell_type": "markdown",
   "metadata": {},
   "source": [
    "4. Get the first platform by using the front() function of vector class. auto platform = platforms.front();"
   ]
  },
  {
   "cell_type": "markdown",
   "metadata": {},
   "source": [
    "5. Get the devices using platform.getDevices(CL_DEVICE_TYPE_GPU, &devices); This will store all the devices in the devices vector."
   ]
  },
  {
   "cell_type": "markdown",
   "metadata": {},
   "source": [
    "6. Get the device that you want to use, for me this was the last device as my AMD radeon was the last one and save it in device variable."
   ]
  },
  {
   "cell_type": "markdown",
   "metadata": {},
   "source": [
    "7. Get the source of the kernel code into a string variable (src). You can create a file and read it in the program dynamically, for some reason it was not working for me so I hardcoded the string."
   ]
  },
  {
   "cell_type": "markdown",
   "metadata": {},
   "source": [
    "8. Now we have to pass this string as a source of the kernel program which we'll be building.\n",
    "\n",
    "    cl::Program::Sources source(1, std::make_pair(src.c_str(), src.length() + 1));"
   ]
  },
  {
   "cell_type": "markdown",
   "metadata": {},
   "source": [
    "9. Create a context by passing the device the you want to use.\n",
    "    cl::Context context(device);"
   ]
  },
  {
   "cell_type": "markdown",
   "metadata": {},
   "source": [
    "10. Now create the program by passing in sources and context in the constructor.\n",
    "    cl::Program program(context, sources);"
   ]
  },
  {
   "cell_type": "markdown",
   "metadata": {},
   "source": [
    "11. Now build the program with .build() of the cl::Program class instance. This can also return a error code if failed, which might be useful for debugging. (I was having trouble with the source so it was throwing an error and this was useful in identifying the probem, which was explained in step 7."
   ]
  },
  {
   "cell_type": "markdown",
   "metadata": {},
   "source": [
    "12. Since these steps are going to be the same in most of the program, I've created a header file which does this in a function and returns a cl::Program."
   ]
  },
  {
   "cell_type": "markdown",
   "metadata": {},
   "source": [
    "13. Because of step 12 we need to get some variables back from the program instance.\n",
    "    "
   ]
  },
  {
   "cell_type": "markdown",
   "metadata": {},
   "source": [
    "    i. auto context = program.getInfo<CL_PROGRAM_CONTEXT>();\n",
    "    ii. auto devices = context.getInfo<CL_CONTEXT_DEVICES>();\n",
    "    iii. auto device = devices.back(); // because I want my 2nd GPU to be used."
   ]
  },
  {
   "cell_type": "markdown",
   "metadata": {},
   "source": [
    "14. Create variables that need to be passed on the kernel functor."
   ]
  },
  {
   "cell_type": "markdown",
   "metadata": {},
   "source": [
    "15. Create the buffers that can be read by the kernel functor."
   ]
  },
  {
   "cell_type": "markdown",
   "metadata": {},
   "source": [
    "    i. cl::Buffer x_buffer;\n",
    "    ii. x_buffer = cl::Buffer(context, begin(x), end(x), true);\n"
   ]
  },
  {
   "cell_type": "markdown",
   "metadata": {},
   "source": [
    "16. The output buffer that needs to be read by the host machine needs to be initialised in a different way."
   ]
  },
  {
   "cell_type": "markdown",
   "metadata": {},
   "source": [
    "    i. cl::Buffer out_buffer(context, CL_MEM_WRITE_ONLY, sizeof(double) * out.size());"
   ]
  },
  {
   "cell_type": "markdown",
   "metadata": {},
   "source": [
    "17. Now make the kernel and pass the program and kernel function name"
   ]
  },
  {
   "cell_type": "markdown",
   "metadata": {},
   "source": [
    "    i. auto vadd = cl::make_kernel<cl::Buffer, cl::Buffer, cl::Buffer>(program, \"vadd\");"
   ]
  },
  {
   "cell_type": "markdown",
   "metadata": {},
   "source": [
    "18. Create a Command Queue which is necessary for creating a parallel processing."
   ]
  },
  {
   "cell_type": "markdown",
   "metadata": {},
   "source": [
    "    i. cl::CommandQueue queue(context, device);"
   ]
  },
  {
   "cell_type": "markdown",
   "metadata": {},
   "source": [
    "19. Pass the buffers that we created as functor variables."
   ]
  },
  {
   "cell_type": "markdown",
   "metadata": {},
   "source": [
    "    i. vadd(\n",
    "        cl::EnqueueArgs(10000000)),\n",
    "        a_buffer,\n",
    "        b_buffer,\n",
    "        out_buffer);"
   ]
  },
  {
   "cell_type": "markdown",
   "metadata": {},
   "source": [
    "20. Wait for the queue to finish using the queue.finish();"
   ]
  },
  {
   "cell_type": "markdown",
   "metadata": {},
   "source": [
    "21. Copy the output variable back to the host in a vector."
   ]
  },
  {
   "cell_type": "markdown",
   "metadata": {},
   "source": [
    "    i. cl::copy(queue, out_buffer, begin(out_variable), end(out_variable));"
   ]
  },
  {
   "cell_type": "markdown",
   "metadata": {},
   "source": [
    "22. If you want to get the information of the device that was used in the functor, you can get it using getInfo<CL_DEVICE_XYZ>() where it will return the information."
   ]
  },
  {
   "cell_type": "markdown",
   "metadata": {},
   "source": [
    "23. Output the variable or store it in a file."
   ]
  },
  {
   "cell_type": "markdown",
   "metadata": {},
   "source": [
    "#### Thats all"
   ]
  }
 ],
 "metadata": {
  "kernelspec": {
   "display_name": "Python 3",
   "language": "python",
   "name": "python3"
  },
  "language_info": {
   "codemirror_mode": {
    "name": "ipython",
    "version": 3
   },
   "file_extension": ".py",
   "mimetype": "text/x-python",
   "name": "python",
   "nbconvert_exporter": "python",
   "pygments_lexer": "ipython3",
   "version": "3.6.5"
  }
 },
 "nbformat": 4,
 "nbformat_minor": 2
}
